{
 "cells": [
  {
   "cell_type": "code",
   "execution_count": 7,
   "id": "dc34ec8c",
   "metadata": {},
   "outputs": [],
   "source": [
    "import pandas as pd\n",
    "import numpy as np\n",
    "import seaborn as sns\n",
    "import matplotlib.pyplot as plt"
   ]
  },
  {
   "cell_type": "code",
   "execution_count": 8,
   "id": "68b8390f",
   "metadata": {},
   "outputs": [],
   "source": [
    "lst_text = ['it Was the best oF Times $',\n",
    " 'It was The worst of times.',\n",
    " 'IT 9 was tHe age Of wisdom',\n",
    " 'it was thE age of foolishness']\n"
   ]
  },
  {
   "cell_type": "code",
   "execution_count": 9,
   "id": "135aa1d7",
   "metadata": {},
   "outputs": [
    {
     "data": {
      "text/plain": [
       "list"
      ]
     },
     "execution_count": 9,
     "metadata": {},
     "output_type": "execute_result"
    }
   ],
   "source": [
    "type(lst_text)"
   ]
  },
  {
   "cell_type": "code",
   "execution_count": 10,
   "id": "2752eea3",
   "metadata": {},
   "outputs": [],
   "source": [
    "df = pd.DataFrame({'text':lst_text})"
   ]
  },
  {
   "cell_type": "code",
   "execution_count": 11,
   "id": "7c4e76c3",
   "metadata": {},
   "outputs": [
    {
     "data": {
      "text/html": [
       "<div>\n",
       "<style scoped>\n",
       "    .dataframe tbody tr th:only-of-type {\n",
       "        vertical-align: middle;\n",
       "    }\n",
       "\n",
       "    .dataframe tbody tr th {\n",
       "        vertical-align: top;\n",
       "    }\n",
       "\n",
       "    .dataframe thead th {\n",
       "        text-align: right;\n",
       "    }\n",
       "</style>\n",
       "<table border=\"1\" class=\"dataframe\">\n",
       "  <thead>\n",
       "    <tr style=\"text-align: right;\">\n",
       "      <th></th>\n",
       "      <th>text</th>\n",
       "    </tr>\n",
       "  </thead>\n",
       "  <tbody>\n",
       "    <tr>\n",
       "      <th>0</th>\n",
       "      <td>it Was the best oF Times $</td>\n",
       "    </tr>\n",
       "    <tr>\n",
       "      <th>1</th>\n",
       "      <td>It was The worst of times.</td>\n",
       "    </tr>\n",
       "    <tr>\n",
       "      <th>2</th>\n",
       "      <td>IT 9 was tHe age Of wisdom</td>\n",
       "    </tr>\n",
       "    <tr>\n",
       "      <th>3</th>\n",
       "      <td>it was thE age of foolishness</td>\n",
       "    </tr>\n",
       "  </tbody>\n",
       "</table>\n",
       "</div>"
      ],
      "text/plain": [
       "                            text\n",
       "0     it Was the best oF Times $\n",
       "1     It was The worst of times.\n",
       "2     IT 9 was tHe age Of wisdom\n",
       "3  it was thE age of foolishness"
      ]
     },
     "execution_count": 11,
     "metadata": {},
     "output_type": "execute_result"
    }
   ],
   "source": [
    "df"
   ]
  },
  {
   "cell_type": "code",
   "execution_count": 12,
   "id": "45e5d65d",
   "metadata": {},
   "outputs": [
    {
     "name": "stderr",
     "output_type": "stream",
     "text": [
      "[nltk_data] Downloading package stopwords to\n",
      "[nltk_data]     C:\\Users\\USER\\AppData\\Roaming\\nltk_data...\n",
      "[nltk_data]   Package stopwords is already up-to-date!\n",
      "[nltk_data] Downloading package wordnet to\n",
      "[nltk_data]     C:\\Users\\USER\\AppData\\Roaming\\nltk_data...\n",
      "[nltk_data] Downloading package omw-1.4 to\n",
      "[nltk_data]     C:\\Users\\USER\\AppData\\Roaming\\nltk_data...\n"
     ]
    },
    {
     "data": {
      "text/plain": [
       "True"
      ]
     },
     "execution_count": 12,
     "metadata": {},
     "output_type": "execute_result"
    }
   ],
   "source": [
    "import nltk\n",
    "nltk.download('stopwords')\n",
    "nltk.download('wordnet')\n",
    "nltk.download('omw-1.4')"
   ]
  },
  {
   "cell_type": "code",
   "execution_count": 12,
   "id": "cf0be834",
   "metadata": {},
   "outputs": [
    {
     "name": "stdout",
     "output_type": "stream",
     "text": [
      "This 1is Natural-LAnguage-Processing\n"
     ]
    }
   ],
   "source": [
    "raw_text = 'This 1is Natural-LAnguage-Processing'\n",
    "print(raw_text)"
   ]
  },
  {
   "cell_type": "code",
   "execution_count": 13,
   "id": "e54d97db",
   "metadata": {},
   "outputs": [
    {
     "data": {
      "application/javascript": [
       "\n",
       "        if (window._pyforest_update_imports_cell) { window._pyforest_update_imports_cell('import re'); }\n",
       "    "
      ],
      "text/plain": [
       "<IPython.core.display.Javascript object>"
      ]
     },
     "metadata": {},
     "output_type": "display_data"
    },
    {
     "name": "stdout",
     "output_type": "stream",
     "text": [
      "This  is Natural LAnguage Processing\n"
     ]
    }
   ],
   "source": [
    "## Remove special characters and numbers\n",
    "sentence = re.sub('[^a-zA-Z]',' ',raw_text)\n",
    "print(sentence)"
   ]
  },
  {
   "cell_type": "code",
   "execution_count": 14,
   "id": "ada44d6e",
   "metadata": {},
   "outputs": [
    {
     "name": "stdout",
     "output_type": "stream",
     "text": [
      "this  is natural language processing\n"
     ]
    }
   ],
   "source": [
    "sentence = sentence.lower()\n",
    "print(sentence)"
   ]
  },
  {
   "cell_type": "code",
   "execution_count": 15,
   "id": "fed0ceb7",
   "metadata": {},
   "outputs": [
    {
     "name": "stdout",
     "output_type": "stream",
     "text": [
      "['this', 'is', 'natural', 'language', 'processing']\n"
     ]
    }
   ],
   "source": [
    "tokens = sentence.split()\n",
    "print(tokens)"
   ]
  },
  {
   "cell_type": "code",
   "execution_count": 16,
   "id": "09be8e30",
   "metadata": {},
   "outputs": [],
   "source": [
    "import nltk\n",
    "from nltk.tokenize import word_tokenize\n",
    "from nltk.corpus import stopwords\n",
    "from nltk.stem import PorterStemmer\n",
    "from nltk.stem import WordNetLemmatizer\n",
    "\n",
    "stemmer = PorterStemmer()\n",
    "lemmatizer = WordNetLemmatizer()"
   ]
  },
  {
   "cell_type": "code",
   "execution_count": 17,
   "id": "9ae273c9",
   "metadata": {},
   "outputs": [
    {
     "name": "stdout",
     "output_type": "stream",
     "text": [
      "['natural', 'language', 'processing']\n"
     ]
    }
   ],
   "source": [
    "clean_tokens = [t for t in tokens if t not in stopwords.words(\"english\")]\n",
    "print(clean_tokens)"
   ]
  },
  {
   "cell_type": "code",
   "execution_count": 18,
   "id": "8b59c7d0",
   "metadata": {},
   "outputs": [
    {
     "name": "stdout",
     "output_type": "stream",
     "text": [
      "['natur', 'languag', 'process']\n"
     ]
    }
   ],
   "source": [
    "clean_token_stem = [stemmer.stem(word) for word in clean_tokens]\n",
    "print(clean_token_stem)"
   ]
  },
  {
   "cell_type": "code",
   "execution_count": 19,
   "id": "8cb35c66",
   "metadata": {},
   "outputs": [
    {
     "name": "stdout",
     "output_type": "stream",
     "text": [
      "['natural', 'language', 'processing']\n"
     ]
    }
   ],
   "source": [
    "clean_tokens_lem = [lemmatizer.lemmatize(word) for word in clean_tokens]\n",
    "print(clean_tokens_lem)"
   ]
  },
  {
   "cell_type": "markdown",
   "id": "5a386004",
   "metadata": {},
   "source": [
    "##  Lets put all of them together"
   ]
  },
  {
   "cell_type": "code",
   "execution_count": 70,
   "id": "ae7021c1",
   "metadata": {},
   "outputs": [],
   "source": [
    "def preprocess(raw_text:pd.DataFrame,flag:str):\n",
    "    #remove special words\n",
    "    sentence = re.sub('[^a-zA-Z]',' ',raw_text)\n",
    "    \n",
    "    #convert into lowercase\n",
    "    sentence = sentence.lower()\n",
    "    \n",
    "    #split the words\n",
    "    tokens = sentence.split()\n",
    "\n",
    "    #stop words removel\n",
    "    clean_token = [t for t in tokens if t not in stopwords.words('english')]\n",
    "    \n",
    "    ## stemming or lemmetization\n",
    "    if flag=='stem':\n",
    "        clean_tokens = [stemmer.stem(word) for word in clean_token]\n",
    "    else: \n",
    "        clean_tokens = [lemmatizer.lemmatize(word) for word in clean_token]\n",
    "    \n",
    "    return  pd.Series([' '.join(clean_tokens),len(clean_tokens)])"
   ]
  },
  {
   "cell_type": "code",
   "execution_count": 74,
   "id": "5f73c2d3",
   "metadata": {
    "scrolled": false
   },
   "outputs": [
    {
     "data": {
      "application/javascript": [
       "\n",
       "        if (window._pyforest_update_imports_cell) { window._pyforest_update_imports_cell('import re'); }\n",
       "    "
      ],
      "text/plain": [
       "<IPython.core.display.Javascript object>"
      ]
     },
     "metadata": {},
     "output_type": "display_data"
    },
    {
     "data": {
      "application/javascript": [
       "\n",
       "        if (window._pyforest_update_imports_cell) { window._pyforest_update_imports_cell('import re'); }\n",
       "    "
      ],
      "text/plain": [
       "<IPython.core.display.Javascript object>"
      ]
     },
     "metadata": {},
     "output_type": "display_data"
    },
    {
     "data": {
      "application/javascript": [
       "\n",
       "        if (window._pyforest_update_imports_cell) { window._pyforest_update_imports_cell('import re'); }\n",
       "    "
      ],
      "text/plain": [
       "<IPython.core.display.Javascript object>"
      ]
     },
     "metadata": {},
     "output_type": "display_data"
    },
    {
     "data": {
      "application/javascript": [
       "\n",
       "        if (window._pyforest_update_imports_cell) { window._pyforest_update_imports_cell('import re'); }\n",
       "    "
      ],
      "text/plain": [
       "<IPython.core.display.Javascript object>"
      ]
     },
     "metadata": {},
     "output_type": "display_data"
    },
    {
     "name": "stdout",
     "output_type": "stream",
     "text": [
      "             0  1\n",
      "0    best time  2\n",
      "1   worst time  2\n",
      "2   age wisdom  2\n",
      "3  age foolish  2\n"
     ]
    }
   ],
   "source": [
    "temp_df = df['text'].apply( lambda x : preprocess(x,'stem'))\n",
    "print(temp_df)"
   ]
  },
  {
   "cell_type": "code",
   "execution_count": 75,
   "id": "20269eb5",
   "metadata": {},
   "outputs": [
    {
     "name": "stdout",
     "output_type": "stream",
     "text": [
      "  clean_text_stem  text_length_stem\n",
      "0       best time                 2\n",
      "1      worst time                 2\n",
      "2      age wisdom                 2\n",
      "3     age foolish                 2\n"
     ]
    }
   ],
   "source": [
    "temp_df.columns = ['clean_text_stem','text_length_stem']\n",
    "print(temp_df)"
   ]
  },
  {
   "cell_type": "code",
   "execution_count": 79,
   "id": "848f7bcc",
   "metadata": {},
   "outputs": [
    {
     "name": "stdout",
     "output_type": "stream",
     "text": [
      "                            text clean_text_stem  text_length_stem  \\\n",
      "0     it Was the best oF Times $       best time                 2   \n",
      "1     It was The worst of times.      worst time                 2   \n",
      "2     IT 9 was tHe age Of wisdom      age wisdom                 2   \n",
      "3  it was thE age of foolishness     age foolish                 2   \n",
      "\n",
      "  clean_text_stem  text_length_stem  \n",
      "0       best time                 2  \n",
      "1      worst time                 2  \n",
      "2      age wisdom                 2  \n",
      "3     age foolish                 2  \n"
     ]
    }
   ],
   "source": [
    "df =  pd.concat([df,temp_df],axis=1)\n",
    "print(df)"
   ]
  },
  {
   "cell_type": "code",
   "execution_count": null,
   "id": "8293e3f1",
   "metadata": {},
   "outputs": [],
   "source": []
  }
 ],
 "metadata": {
  "kernelspec": {
   "display_name": "Python 3 (ipykernel)",
   "language": "python",
   "name": "python3"
  },
  "language_info": {
   "codemirror_mode": {
    "name": "ipython",
    "version": 3
   },
   "file_extension": ".py",
   "mimetype": "text/x-python",
   "name": "python",
   "nbconvert_exporter": "python",
   "pygments_lexer": "ipython3",
   "version": "3.10.5"
  }
 },
 "nbformat": 4,
 "nbformat_minor": 5
}
